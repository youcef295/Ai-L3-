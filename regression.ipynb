{
 "cells": [
  {
   "cell_type": "code",
   "execution_count": 2,
   "metadata": {},
   "outputs": [],
   "source": [
    "import numpy as np\n",
    "from sklearn.datasets import make_regression\n",
    "import matplotlib.pyplot as plt"
   ]
  },
  {
   "cell_type": "markdown",
   "metadata": {},
   "source": [
    "# Dataset"
   ]
  },
  {
   "cell_type": "code",
   "execution_count": 3,
   "metadata": {},
   "outputs": [
    {
     "data": {
      "text/plain": [
       "<matplotlib.collections.PathCollection at 0x7f0ed7242d40>"
      ]
     },
     "execution_count": 3,
     "metadata": {},
     "output_type": "execute_result"
    },
    {
     "data": {
      "image/png": "[encoded data removed]",
      "text/plain": [
       "<Figure size 640x480 with 1 Axes>"
      ]
     },
     "metadata": {},
     "output_type": "display_data"
    }
   ],
   "source": [
    "#creation du dataset\n",
    "x, y = make_regression(n_samples=100,  n_features=1, noise=15)\n",
    "plt.scatter(x,y)"
   ]
  },
  {
   "cell_type": "markdown",
   "metadata": {},
   "source": [
    "## verification des dimesions"
   ]
  },
  {
   "cell_type": "markdown",
   "metadata": {},
   "source": [
    "## Pour le vecteur Y"
   ]
  },
  {
   "cell_type": "code",
   "execution_count": 4,
   "metadata": {},
   "outputs": [
    {
     "name": "stdout",
     "output_type": "stream",
     "text": [
      "(100, 1)\n",
      "(100, 1)\n",
      "100\n"
     ]
    }
   ],
   "source": [
    "print(x.shape)\n",
    "y = y.reshape(y.shape[0], 1) #c'est pour eviter le probleme de (100,)\n",
    "print(y.shape) # C'est le vecteur Y"
   ]
  },
  {
   "cell_type": "markdown",
   "metadata": {},
   "source": [
    "## Pour le vecteur X\n"
   ]
  },
  {
   "cell_type": "code",
   "execution_count": 8,
   "metadata": {},
   "outputs": [
    {
     "data": {
      "text/plain": [
       "array([[ 0.61591312,  1.        ],\n",
       "       [ 0.37980233,  1.        ],\n",
       "       [-0.41941993,  1.        ],\n",
       "       [ 0.2616894 ,  1.        ],\n",
       "       [-0.29230819,  1.        ],\n",
       "       [-1.26380724,  1.        ],\n",
       "       [ 0.91428883,  1.        ],\n",
       "       [-1.08866693,  1.        ],\n",
       "       [ 1.71358525,  1.        ],\n",
       "       [ 0.53353207,  1.        ],\n",
       "       [ 0.33298666,  1.        ],\n",
       "       [ 0.02600678,  1.        ],\n",
       "       [ 0.34475735,  1.        ],\n",
       "       [-0.22184903,  1.        ],\n",
       "       [ 0.33344845,  1.        ],\n",
       "       [ 0.44847832,  1.        ],\n",
       "       [ 0.1767734 ,  1.        ],\n",
       "       [ 0.4922863 ,  1.        ],\n",
       "       [-0.72181681,  1.        ],\n",
       "       [-1.71217071,  1.        ],\n",
       "       [ 0.91152494,  1.        ],\n",
       "       [ 0.31706059,  1.        ],\n",
       "       [ 0.21757998,  1.        ],\n",
       "       [ 0.59749774,  1.        ],\n",
       "       [ 0.36810008,  1.        ],\n",
       "       [ 0.13236881,  1.        ],\n",
       "       [ 0.11655041,  1.        ],\n",
       "       [-1.58987309,  1.        ],\n",
       "       [-1.62468563,  1.        ],\n",
       "       [ 0.05116729,  1.        ],\n",
       "       [-0.38979576,  1.        ],\n",
       "       [ 1.76443823,  1.        ],\n",
       "       [ 0.4680969 ,  1.        ],\n",
       "       [ 2.29965135,  1.        ],\n",
       "       [-0.37454972,  1.        ],\n",
       "       [-0.16883542,  1.        ],\n",
       "       [-0.32869396,  1.        ],\n",
       "       [ 0.48358853,  1.        ],\n",
       "       [ 0.16258723,  1.        ],\n",
       "       [ 0.92348904,  1.        ],\n",
       "       [-1.96444553,  1.        ],\n",
       "       [ 0.54312248,  1.        ],\n",
       "       [ 0.7601618 ,  1.        ],\n",
       "       [ 0.57345193,  1.        ],\n",
       "       [-1.59537441,  1.        ],\n",
       "       [ 1.00487858,  1.        ],\n",
       "       [ 1.65797686,  1.        ],\n",
       "       [-0.14780725,  1.        ],\n",
       "       [-2.37460841,  1.        ],\n",
       "       [ 0.92212538,  1.        ],\n",
       "       [-1.49671192,  1.        ],\n",
       "       [-0.84860899,  1.        ],\n",
       "       [-0.81409469,  1.        ],\n",
       "       [ 1.39967623,  1.        ],\n",
       "       [ 0.2756252 ,  1.        ],\n",
       "       [-1.16739232,  1.        ],\n",
       "       [ 1.46084999,  1.        ],\n",
       "       [-3.45625637,  1.        ],\n",
       "       [-1.38589731,  1.        ],\n",
       "       [ 0.47909372,  1.        ],\n",
       "       [ 0.18073205,  1.        ],\n",
       "       [ 0.28487244,  1.        ],\n",
       "       [ 0.00944055,  1.        ],\n",
       "       [-0.5457382 ,  1.        ],\n",
       "       [-2.30459827,  1.        ],\n",
       "       [ 0.56628947,  1.        ],\n",
       "       [-0.01006984,  1.        ],\n",
       "       [ 0.8194258 ,  1.        ],\n",
       "       [ 0.55566628,  1.        ],\n",
       "       [ 0.38813572,  1.        ],\n",
       "       [-1.77603636,  1.        ],\n",
       "       [ 0.27946674,  1.        ],\n",
       "       [ 0.28717249,  1.        ],\n",
       "       [-0.69694831,  1.        ],\n",
       "       [-0.5684001 ,  1.        ],\n",
       "       [-1.28084326,  1.        ],\n",
       "       [ 0.04958807,  1.        ],\n",
       "       [ 0.97764819,  1.        ],\n",
       "       [-0.196723  ,  1.        ],\n",
       "       [-1.42573632,  1.        ],\n",
       "       [ 0.54168835,  1.        ],\n",
       "       [ 0.87811049,  1.        ],\n",
       "       [ 0.25009748,  1.        ],\n",
       "       [ 1.13176392,  1.        ],\n",
       "       [-1.20613225,  1.        ],\n",
       "       [-0.02603711,  1.        ],\n",
       "       [ 0.55105399,  1.        ],\n",
       "       [ 1.62549422,  1.        ],\n",
       "       [-0.65652497,  1.        ],\n",
       "       [-1.27172356,  1.        ],\n",
       "       [ 0.32243538,  1.        ],\n",
       "       [-1.15601669,  1.        ],\n",
       "       [-0.01816779,  1.        ],\n",
       "       [ 2.74069055,  1.        ],\n",
       "       [ 1.44572454,  1.        ],\n",
       "       [-2.23513416,  1.        ],\n",
       "       [ 1.05185148,  1.        ],\n",
       "       [ 0.60110555,  1.        ],\n",
       "       [-0.34643656,  1.        ],\n",
       "       [ 0.18986981,  1.        ]])"
      ]
     },
     "execution_count": 8,
     "metadata": {},
     "output_type": "execute_result"
    }
   ],
   "source": [
    "X = np.hstack((x, np.ones(x.shape)))\n",
    "X.shape\n",
    "X"
   ]
  },
  {
   "cell_type": "markdown",
   "metadata": {},
   "source": [
    "## Thetha"
   ]
  },
  {
   "cell_type": "code",
   "execution_count": 11,
   "metadata": {},
   "outputs": [
    {
     "data": {
      "text/plain": [
       "(2, 1)"
      ]
     },
     "execution_count": 11,
     "metadata": {},
     "output_type": "execute_result"
    }
   ],
   "source": [
    "# Thetha\n",
    "theta = np.random.randn(2,1)\n",
    "theta.shape"
   ]
  },
  {
   "cell_type": "markdown",
   "metadata": {},
   "source": [
    "# Model\n"
   ]
  },
  {
   "cell_type": "code",
   "execution_count": 41,
   "metadata": {},
   "outputs": [],
   "source": [
    "def model(X, theta):\n",
    "    return X.dot(theta)"
   ]
  },
  {
   "cell_type": "code",
   "execution_count": 19,
   "metadata": {},
   "outputs": [
    {
     "data": {
      "text/plain": [
       "<matplotlib.collections.PathCollection at 0x7f0ed4652f80>"
      ]
     },
     "execution_count": 19,
     "metadata": {},
     "output_type": "execute_result"
    },
    {
     "data": {
      "image/png": "[encoded data removed]",
      "text/plain": [
       "<Figure size 640x480 with 1 Axes>"
      ]
     },
     "metadata": {},
     "output_type": "display_data"
    }
   ],
   "source": [
    "plt.plot(x,model(X, theta), c='r')\n",
    "plt.scatter(x,y)"
   ]
  },
  {
   "cell_type": "markdown",
   "metadata": {},
   "source": [
    "# Fonction cout"
   ]
  },
  {
   "cell_type": "code",
   "execution_count": 31,
   "metadata": {},
   "outputs": [],
   "source": [
    "def cost_function(X,y,theta):\n",
    "    m = len(y)\n",
    "    return 1/(m) * np.sum((model(X,theta)-y)**2)"
   ]
  },
  {
   "cell_type": "code",
   "execution_count": 33,
   "metadata": {},
   "outputs": [
    {
     "data": {
      "text/plain": [
       "np.float64(714.2647395550307)"
      ]
     },
     "execution_count": 33,
     "metadata": {},
     "output_type": "execute_result"
    }
   ],
   "source": [
    "cost_function(X,y,theta)"
   ]
  },
  {
   "cell_type": "markdown",
   "metadata": {},
   "source": [
    "# Descente de gradient"
   ]
  },
  {
   "cell_type": "code",
   "execution_count": 35,
   "metadata": {},
   "outputs": [],
   "source": [
    "def grad(X, y, theta):\n",
    "    m = len(y)\n",
    "    return (1/m) * model(X.T, (model(X, theta)-y) )"
   ]
  },
  {
   "cell_type": "code",
   "execution_count": 43,
   "metadata": {},
   "outputs": [],
   "source": [
    "def gradient_descent(X, y, theta, learning_rate , n_iterations):\n",
    "    for i in range(0,n_iterations):\n",
    "        theta = theta - learning_rate *(grad(X, y, theta))\n",
    "    return theta"
   ]
  },
  {
   "cell_type": "markdown",
   "metadata": {},
   "source": [
    "# Entrainement du modele"
   ]
  },
  {
   "cell_type": "code",
   "execution_count": 59,
   "metadata": {},
   "outputs": [
    {
     "data": {
      "text/plain": [
       "array([[21.36444692],\n",
       "       [-0.93914695]])"
      ]
     },
     "execution_count": 59,
     "metadata": {},
     "output_type": "execute_result"
    }
   ],
   "source": [
    "theta_final = gradient_descent(X, y, theta, learning_rate=1.2, n_iterations=30)\n",
    "theta_final"
   ]
  },
  {
   "cell_type": "code",
   "execution_count": 60,
   "metadata": {},
   "outputs": [
    {
     "data": {
      "text/plain": [
       "[<matplotlib.lines.Line2D at 0x7f0ed4130a60>]"
      ]
     },
     "execution_count": 60,
     "metadata": {},
     "output_type": "execute_result"
    },
    {
     "data": {
      "image/png": "[encoded data removed]",
      "text/plain": [
       "<Figure size 640x480 with 1 Axes>"
      ]
     },
     "metadata": {},
     "output_type": "display_data"
    }
   ],
   "source": [
    "prediction = model(X, theta_final)\n",
    "plt.scatter(x,y)\n",
    "plt.plot(x, prediction, c='r')"
   ]
  }
 ],
 "metadata": {
  "kernelspec": {
   "display_name": "Python 3",
   "language": "python",
   "name": "python3"
  },
  "language_info": {
   "codemirror_mode": {
    "name": "ipython",
    "version": 3
   },
   "file_extension": ".py",
   "mimetype": "text/x-python",
   "name": "python",
   "nbconvert_exporter": "python",
   "pygments_lexer": "ipython3",
   "version": "3.10.12"
  }
 },
 "nbformat": 4,
 "nbformat_minor": 2
}
